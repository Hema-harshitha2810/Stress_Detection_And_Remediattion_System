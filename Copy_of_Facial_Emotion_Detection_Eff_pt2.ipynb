{
  "metadata": {
    "kernelspec": {
      "language": "python",
      "display_name": "Python 3",
      "name": "python3"
    },
    "language_info": {
      "pygments_lexer": "ipython3",
      "nbconvert_exporter": "python",
      "version": "3.6.4",
      "file_extension": ".py",
      "codemirror_mode": {
        "name": "ipython",
        "version": 3
      },
      "name": "python",
      "mimetype": "text/x-python"
    },
    "colab": {
      "provenance": []
    }
  },
  "nbformat_minor": 0,
  "nbformat": 4,
  "cells": [
    {
      "source": [
        "import os\n",
        "import sys\n",
        "from tempfile import NamedTemporaryFile\n",
        "from urllib.request import urlopen\n",
        "from urllib.parse import unquote, urlparse\n",
        "from urllib.error import HTTPError\n",
        "from zipfile import ZipFile\n",
        "import tarfile\n",
        "import shutil\n",
        "\n",
        "CHUNK_SIZE = 40960\n",
        "DATA_SOURCE_MAPPING = 'fer2013:https%3A%2F%2Fstorage.googleapis.com%2Fkaggle-data-sets%2F786787%2F1351797%2Fbundle%2Farchive.zip%3FX-Goog-Algorithm%3DGOOG4-RSA-SHA256%26X-Goog-Credential%3Dgcp-kaggle-com%2540kaggle-161607.iam.gserviceaccount.com%252F20240401%252Fauto%252Fstorage%252Fgoog4_request%26X-Goog-Date%3D20240401T085953Z%26X-Goog-Expires%3D259200%26X-Goog-SignedHeaders%3Dhost%26X-Goog-Signature%3D2effc21475e00dfdd7a8710a1b99f1640e92733cc8d9e7194c181c503827778aaf83282c611cb8358e11f47b2e62ea0f31e14c05a4c19e38da07daa3be7852061282d40e3efa84adfaaa7ad9395d166da8d27857db4d8723ec88c64212e04fd7f449d56db9304761c16d93ba0ba0170acce69f003cf2cce3a3895db8a2efe5eb5db6dee3864bdd28280a2181b1cc7ee532992497fb69204e68d729a71f9b856fe647a862405e9aa4ae9e834f0e858f86e2539fa9af752dcdf772e851433753d7e6fc0f21b6ef751484d94aea7195f9929f41d7202affc02228ef4a76d68303d58b68c9d5ed8a61bff8a669dda2987b5cbc6ddde74e01944694eb8443096a0b93,emotion-detection-fer:https%3A%2F%2Fstorage.googleapis.com%2Fkaggle-data-sets%2F1028436%2F1732825%2Fbundle%2Farchive.zip%3FX-Goog-Algorithm%3DGOOG4-RSA-SHA256%26X-Goog-Credential%3Dgcp-kaggle-com%2540kaggle-161607.iam.gserviceaccount.com%252F20240401%252Fauto%252Fstorage%252Fgoog4_request%26X-Goog-Date%3D20240401T085953Z%26X-Goog-Expires%3D259200%26X-Goog-SignedHeaders%3Dhost%26X-Goog-Signature%3D78249aff65e139732949de86cc71dee9e046c226545efa450e9c23fb24584e03c90d2352349be8c1f4b9bb8bfde52e559cb8f0f6e7ae30445e0a12ea947aee161ece2819738ac3c9e4dedd0025cd4055344a52a034d5addf61c8b2490914b4b1a22d24de73ebb8379fbdbb45969d6ddb8af4ab69ec6cd9a90951ed69a6ce6c135abebabe2431be33e8a8131648cbd9b6b29adf0c9098c72d974ce481a0c4fb6683d81b8153e9797410434004a703fe98173bcc07894fa1395f25bc7f3a8bc1ff1d40b3dfc45770266169e1033ac80a586e90da256de31e0bf66aaf501b1722a05a58383f684c389f5b969172cb8d25f012ae566e6ca731f6201692eba8d00a7e'\n",
        "\n",
        "KAGGLE_INPUT_PATH='/kaggle/input'\n",
        "KAGGLE_WORKING_PATH='/kaggle/working'\n",
        "KAGGLE_SYMLINK='kaggle'\n",
        "\n",
        "!umount /kaggle/input/ 2> /dev/null\n",
        "shutil.rmtree('/kaggle/input', ignore_errors=True)\n",
        "os.makedirs(KAGGLE_INPUT_PATH, 0o777, exist_ok=True)\n",
        "os.makedirs(KAGGLE_WORKING_PATH, 0o777, exist_ok=True)\n",
        "\n",
        "try:\n",
        "  os.symlink(KAGGLE_INPUT_PATH, os.path.join(\"..\", 'input'), target_is_directory=True)\n",
        "except FileExistsError:\n",
        "  pass\n",
        "try:\n",
        "  os.symlink(KAGGLE_WORKING_PATH, os.path.join(\"..\", 'working'), target_is_directory=True)\n",
        "except FileExistsError:\n",
        "  pass\n",
        "\n",
        "for data_source_mapping in DATA_SOURCE_MAPPING.split(','):\n",
        "    directory, download_url_encoded = data_source_mapping.split(':')\n",
        "    download_url = unquote(download_url_encoded)\n",
        "    filename = urlparse(download_url).path\n",
        "    destination_path = os.path.join(KAGGLE_INPUT_PATH, directory)\n",
        "    try:\n",
        "        with urlopen(download_url) as fileres, NamedTemporaryFile() as tfile:\n",
        "            total_length = fileres.headers['content-length']\n",
        "            print(f'Downloading {directory}, {total_length} bytes compressed')\n",
        "            dl = 0\n",
        "            data = fileres.read(CHUNK_SIZE)\n",
        "            while len(data) > 0:\n",
        "                dl += len(data)\n",
        "                tfile.write(data)\n",
        "                done = int(50 * dl / int(total_length))\n",
        "                sys.stdout.write(f\"\\r[{'=' * done}{' ' * (50-done)}] {dl} bytes downloaded\")\n",
        "                sys.stdout.flush()\n",
        "                data = fileres.read(CHUNK_SIZE)\n",
        "            if filename.endswith('.zip'):\n",
        "              with ZipFile(tfile) as zfile:\n",
        "                zfile.extractall(destination_path)\n",
        "            else:\n",
        "              with tarfile.open(tfile.name) as tarfile:\n",
        "                tarfile.extractall(destination_path)\n",
        "            print(f'\\nDownloaded and uncompressed: {directory}')\n",
        "    except HTTPError as e:\n",
        "        print(f'Failed to load (likely expired) {download_url} to path {destination_path}')\n",
        "        continue\n",
        "    except OSError as e:\n",
        "        print(f'Failed to load {download_url} to path {destination_path}')\n",
        "        continue\n",
        "\n",
        "print('Data source import complete.')\n"
      ],
      "metadata": {
        "id": "8jhF559A4vkf"
      },
      "cell_type": "code",
      "outputs": [],
      "execution_count": null
    },
    {
      "cell_type": "markdown",
      "source": [
        "<div style = \"color: Black;\n",
        "              display: fill;\n",
        "              border-radius: 7px;\n",
        "              background-color: #256d7c;\">\n",
        "    <h1 id = \"title\"\n",
        "        style = \"padding: 18px;\n",
        "                 color: #f8f7e4;\n",
        "                 font-size: 35px;\n",
        "                 font-family: Cambria;\n",
        "                 font-weight: bold;\">&#8759;\n",
        "        <a class=\"anchor-link\"\n",
        "            id=\"title\" href=\"https://www.kaggle.com/charlesanjah/optimizing-facial-emotion-detection-efficientnet/notebook#title\"\n",
        "            style = \"padding: 18px;\n",
        "                 color: #f8e7b5;\n",
        "                 font-size: 35px;\n",
        "                 font-family: Cambria;\n",
        "                 text-decoration: none;\n",
        "                 font-weight: bold;\n",
        "                 align: centre;\"          \n",
        "            >\n",
        "        Optimising Facial Emotion Detection with Deep Learning </a>\n",
        "    </h1>\n",
        "</div>"
      ],
      "metadata": {
        "id": "-wPXfpBl4vki"
      }
    },
    {
      "cell_type": "markdown",
      "source": [
        "<img src=\"https://acart.com/wp-content/uploads/2017/04/faceplus-example.png\" alt=\"Facial Recognition And Emotion Detection Model\" style=\"width:100%;height:400px;\">"
      ],
      "metadata": {
        "id": "_edV3QlN4vkk"
      }
    },
    {
      "cell_type": "markdown",
      "source": [
        "\n",
        "<div style = \"color: Black;\n",
        "              display: fill;\n",
        "              border-radius: 7px;\n",
        "              background-color: #256d7c;\">\n",
        "    <h1 id = \"import-libraries\"\n",
        "        style = \"padding: 18px;\n",
        "                 color: #f8e7b5;\n",
        "                 font-size: 35px;\n",
        "                 font-family: Cambria;\n",
        "                 font-weight: bold;\">&#8759; Import Standard Libraries\n",
        "        <a class=\"anchor-link\" id=\"title\" href=\"https://www.kaggle.com/code/charlesanjah/keratoconus-eye-disease-detection-using-cnn#import-libraries\">¶</a>\n",
        "    </h1>\n",
        "</div>"
      ],
      "metadata": {
        "id": "JCFcdm5a4vkl"
      }
    },
    {
      "cell_type": "code",
      "source": [
        "# This Python 3 environment comes with many helpful analytics libraries installed\n",
        "# It is defined by the kaggle/python Docker image: https://github.com/kaggle/docker-python\n",
        "# For example, here's several helpful packages to load\n",
        "\n",
        "import numpy as npy # linear algebra\n",
        "import pandas as pds # data processing, CSV file I/O (e.g. pd.read_csv)\n",
        "import seaborn as sns\n",
        "import matplotlib.pyplot as plt\n",
        "import tensorflow as tf\n",
        "from PIL import Image\n",
        "from tensorflow.keras.preprocessing.image import ImageDataGenerator as ImgDataGen\n",
        "\n",
        "# Input data files are available in the read-only \"../input/\" directory\n",
        "# For example, running this (by clicking run or pressing Shift+Enter) will list all files under the input directory\n"
      ],
      "metadata": {
        "execution": {
          "iopub.status.busy": "2023-05-08T07:48:21.826486Z",
          "iopub.execute_input": "2023-05-08T07:48:21.82683Z",
          "iopub.status.idle": "2023-05-08T07:48:28.088413Z",
          "shell.execute_reply.started": "2023-05-08T07:48:21.826801Z",
          "shell.execute_reply": "2023-05-08T07:48:28.087485Z"
        },
        "trusted": true,
        "id": "AjDiBsil4vkl"
      },
      "execution_count": null,
      "outputs": []
    },
    {
      "cell_type": "code",
      "source": [
        "# Read all files from folders\n",
        "import os, sys, time, warnings, sklearn\n",
        "ROOT='/kaggle/input'\n",
        "# ROOT='data'\n",
        "# for dirname, _, filenames in os.walk(ROOT):\n",
        "#     for filename in filenames:\n",
        "#         print(os.path.join(dirname, filename))"
      ],
      "metadata": {
        "execution": {
          "iopub.status.busy": "2023-05-08T07:48:28.090122Z",
          "iopub.execute_input": "2023-05-08T07:48:28.09083Z",
          "iopub.status.idle": "2023-05-08T07:48:28.127107Z",
          "shell.execute_reply.started": "2023-05-08T07:48:28.090794Z",
          "shell.execute_reply": "2023-05-08T07:48:28.126299Z"
        },
        "trusted": true,
        "id": "RLmG6u6h4vkl"
      },
      "execution_count": null,
      "outputs": []
    },
    {
      "cell_type": "code",
      "source": [
        "# Specify important directories\n",
        "TRAIN_PATH=ROOT+'/emotion-detection-fer/train'\n",
        "TEST_PATH=ROOT+'/emotion-detection-fer/test'\n",
        "train_angry_img_path=TRAIN_PATH +'/angry'\n",
        "\n",
        "OVERSAMPLED_TRAIN_PATH='../fed_oversampled_train'\n",
        "MODEL_PATH='models'\n",
        "IMAGE_PATH='images'\n",
        "\n",
        "# Model Architecture path\n",
        "def model_arch(model_name):\n",
        "    !mkdir images\n",
        "    arch=IMAGE_PATH+'/fer-2013_'+model_name+'.png'\n",
        "    return arch\n",
        "\n",
        "#  TensorFlow Checkpoint save_weight uses .ckpt extension format\n",
        "def checkpoint_path(model_name):\n",
        "    checkpoint_path = MODEL_PATH+\"/fedav_best_model-\"+model_name+\".ckpt\"\n",
        "    return checkpoint_path\n",
        "\n"
      ],
      "metadata": {
        "execution": {
          "iopub.status.busy": "2023-05-08T07:48:28.128466Z",
          "iopub.execute_input": "2023-05-08T07:48:28.128799Z",
          "iopub.status.idle": "2023-05-08T07:48:28.134755Z",
          "shell.execute_reply.started": "2023-05-08T07:48:28.128768Z",
          "shell.execute_reply": "2023-05-08T07:48:28.133859Z"
        },
        "trusted": true,
        "id": "tlhsgzuD4vkl"
      },
      "execution_count": null,
      "outputs": []
    },
    {
      "cell_type": "markdown",
      "source": [
        "<div style = \"color: Black;\n",
        "              display: fill;\n",
        "              border-radius: 7px;\n",
        "              background-color: #256d7c;\">\n",
        "    <h1 id = \"exploratory-da\"\n",
        "        style = \"padding: 18px;\n",
        "                 color: #f8e7b5;\n",
        "                 font-size: 35px;\n",
        "                 font-family: Cambria;\n",
        "                 font-weight: bold;\">Exploratory Data Analysis\n",
        "        <a class=\"anchor-link\" id=\"title\" href=\"https://www.kaggle.com/code/charlesanjah/keratoconus-eye-disease-detection-using-cnn#exploratory-da\">¶</a>\n",
        "    </h1>\n",
        "</div>"
      ],
      "metadata": {
        "id": "WtGDwYKA4vkm"
      }
    },
    {
      "cell_type": "code",
      "source": [
        "# Load a sample image\n",
        "# using open() to open images\n",
        "image_data = Image.open(train_angry_img_path+'/im0.png')\n",
        "image_data"
      ],
      "metadata": {
        "execution": {
          "iopub.status.busy": "2023-05-08T07:48:28.137239Z",
          "iopub.execute_input": "2023-05-08T07:48:28.137817Z",
          "iopub.status.idle": "2023-05-08T07:48:28.176276Z",
          "shell.execute_reply.started": "2023-05-08T07:48:28.137786Z",
          "shell.execute_reply": "2023-05-08T07:48:28.175369Z"
        },
        "trusted": true,
        "id": "zyW60Ug34vkm"
      },
      "execution_count": null,
      "outputs": []
    },
    {
      "cell_type": "code",
      "source": [
        "# Get the shape of the image\n",
        "image=plt.imread(train_angry_img_path+'/im0.png')\n",
        "print(f'Image shape: {image.shape}')\n",
        "\n",
        "# Convert image data (like jpeg) to numpy using asarray()\n",
        "image_array = npy.asarray(image_data)\n",
        "print(f'Image data array: {image_array}')\n",
        "\n",
        "# Get the shape of the image array\n",
        "print(f'Image array shape: {image_array.shape}')\n",
        "\n",
        "# Printing the image\n",
        "plt.imshow(image_array)\n",
        "plt.xlabel('Width')\n",
        "plt.ylabel('Height')\n",
        "plt.title('An Angry Face')\n",
        "plt.show()"
      ],
      "metadata": {
        "execution": {
          "iopub.status.busy": "2023-05-08T07:48:28.177475Z",
          "iopub.execute_input": "2023-05-08T07:48:28.177773Z",
          "iopub.status.idle": "2023-05-08T07:48:28.401925Z",
          "shell.execute_reply.started": "2023-05-08T07:48:28.177745Z",
          "shell.execute_reply": "2023-05-08T07:48:28.401045Z"
        },
        "trusted": true,
        "id": "w-tVweZD4vkm"
      },
      "execution_count": null,
      "outputs": []
    },
    {
      "cell_type": "code",
      "source": [
        "# Get the list of folders in the directory as classes\n",
        "class_dir=os.listdir(TRAIN_PATH+'/')\n",
        "class_dir"
      ],
      "metadata": {
        "execution": {
          "iopub.status.busy": "2023-05-08T07:48:28.40318Z",
          "iopub.execute_input": "2023-05-08T07:48:28.403946Z",
          "iopub.status.idle": "2023-05-08T07:48:28.417161Z",
          "shell.execute_reply.started": "2023-05-08T07:48:28.403913Z",
          "shell.execute_reply": "2023-05-08T07:48:28.416167Z"
        },
        "trusted": true,
        "id": "AsMZu3B84vkn"
      },
      "execution_count": null,
      "outputs": []
    },
    {
      "cell_type": "markdown",
      "source": [
        " For Statistical Analysis, we'll load the images, convert them to numpy arrays, and store them in a pandas dataframe with the columns 'filename', 'image', and 'label'"
      ],
      "metadata": {
        "id": "OZcmALng4vkn"
      }
    },
    {
      "cell_type": "code",
      "source": [
        "# set up file paths and labels\n",
        "folder_names = class_dir\n",
        "label_dict = {folder_names[i]:i for i in range(len(folder_names))}\n",
        "image_filenames = []\n",
        "labels = []\n",
        "\n",
        "# iterate through each folder and collect filenames and labels\n",
        "for folder_name in folder_names:\n",
        "    folder_path = os.path.join(TRAIN_PATH, folder_name)\n",
        "    for filename in os.listdir(folder_path):\n",
        "        if filename.endswith('.png'):\n",
        "            image_filenames.append(os.path.join(folder_name, filename))\n",
        "            labels.append(label_dict[folder_name])\n",
        "\n",
        "# create pandas dataframe\n",
        "df = pds.DataFrame({'filename': image_filenames, 'emotion': labels})\n",
        "\n",
        "# add 'image' column to dataframe\n",
        "image_array_list = []\n",
        "for filename in df['filename']:\n",
        "    img_path = os.path.join(TRAIN_PATH, filename)\n",
        "    img = Image.open(img_path)\n",
        "    img_array = npy.array(img).flatten()\n",
        "    image_array_list.append(img_array)\n",
        "df['image'] = image_array_list\n",
        "\n",
        "dfcopy = df.copy()\n",
        "\n",
        "# strip and replace commas in 'image' column\n",
        "# df['image'] = df['image'].apply(lambda x: x.strip('[]').replace(',', ' '))\n",
        "\n",
        "# convert the image column to a string with comma-separated values\n",
        "df['image'] = df['image'].apply(lambda x: ' '.join(map(str, x.tolist())))\n",
        "\n",
        "# remove square brackets from the string representation of the array\n",
        "df['image'] = df['image'].str.replace('[', '').str.replace(']', '')\n",
        "\n",
        "\n",
        "# Export the preprocessed file to CSV\n",
        "!mkdir output\n",
        "df.to_csv('output/fer-2013-images_preprocessed.csv', index=False)\n",
        "\n",
        "# display dataframe\n",
        "cm = sns.light_palette(\"green\", as_cmap=True)\n",
        "df.tail(10).style.background_gradient(cmap=cm, text_color_threshold = 0.1).format(precision=2).highlight_null('red').set_properties(**{'background-color': '#256d7c;', 'color': 'white'}, subset=['filename'])\n",
        "df"
      ],
      "metadata": {
        "execution": {
          "iopub.status.busy": "2023-05-08T07:48:28.41862Z",
          "iopub.execute_input": "2023-05-08T07:48:28.419015Z",
          "iopub.status.idle": "2023-05-08T07:53:28.45141Z",
          "shell.execute_reply.started": "2023-05-08T07:48:28.418984Z",
          "shell.execute_reply": "2023-05-08T07:53:28.450229Z"
        },
        "trusted": true,
        "id": "9SoPY1Iv4vkn"
      },
      "execution_count": null,
      "outputs": []
    },
    {
      "cell_type": "code",
      "source": [
        "df.emotion.value_counts().unique()"
      ],
      "metadata": {
        "execution": {
          "iopub.status.busy": "2023-05-08T07:53:28.453057Z",
          "iopub.execute_input": "2023-05-08T07:53:28.453655Z",
          "iopub.status.idle": "2023-05-08T07:53:28.464357Z",
          "shell.execute_reply.started": "2023-05-08T07:53:28.453616Z",
          "shell.execute_reply": "2023-05-08T07:53:28.463273Z"
        },
        "trusted": true,
        "id": "pQovFE824vkn"
      },
      "execution_count": null,
      "outputs": []
    },
    {
      "cell_type": "code",
      "source": [
        "dfcopy"
      ],
      "metadata": {
        "execution": {
          "iopub.status.busy": "2023-05-08T07:53:28.465961Z",
          "iopub.execute_input": "2023-05-08T07:53:28.466362Z",
          "iopub.status.idle": "2023-05-08T07:53:28.4912Z",
          "shell.execute_reply.started": "2023-05-08T07:53:28.466312Z",
          "shell.execute_reply": "2023-05-08T07:53:28.490336Z"
        },
        "trusted": true,
        "id": "GE9-wrUX4vkn"
      },
      "execution_count": null,
      "outputs": []
    },
    {
      "cell_type": "code",
      "source": [
        "# dfcopy = df.copy()\n",
        "dfcopy.info()"
      ],
      "metadata": {
        "execution": {
          "iopub.status.busy": "2023-05-08T07:53:28.496228Z",
          "iopub.execute_input": "2023-05-08T07:53:28.496493Z",
          "iopub.status.idle": "2023-05-08T07:53:28.519232Z",
          "shell.execute_reply.started": "2023-05-08T07:53:28.496472Z",
          "shell.execute_reply": "2023-05-08T07:53:28.518336Z"
        },
        "trusted": true,
        "id": "caO3FO2Z4vko"
      },
      "execution_count": null,
      "outputs": []
    },
    {
      "cell_type": "code",
      "source": [
        "# Computing the mean and standard deviation of the pixel values in each image\n",
        "mean_values = [npy.mean(img) for img in dfcopy['image']]\n",
        "std_values = [npy.std(img) for img in dfcopy['image']]\n",
        "\n",
        "# add new columns for mean and standard deviation\n",
        "dfcopy['pixel_mean'] = mean_values\n",
        "dfcopy['pixel_std'] = std_values\n",
        "\n",
        "dfcopy= dfcopy[['filename', 'image', 'pixel_mean', 'pixel_std', 'emotion']]\n",
        "# print statistical summary\n",
        "dfcopy.tail(10).style.background_gradient(cmap=cm, text_color_threshold = 0.1).format(precision=2).highlight_null('red').set_properties(**{'background-color': '#256d7c;', 'color': 'white'}, subset=['filename', 'image'])"
      ],
      "metadata": {
        "execution": {
          "iopub.status.busy": "2023-05-08T07:53:28.520983Z",
          "iopub.execute_input": "2023-05-08T07:53:28.521382Z",
          "iopub.status.idle": "2023-05-08T07:53:29.755159Z",
          "shell.execute_reply.started": "2023-05-08T07:53:28.521351Z",
          "shell.execute_reply": "2023-05-08T07:53:29.754349Z"
        },
        "trusted": true,
        "id": "x7K2Y-io4vko"
      },
      "execution_count": null,
      "outputs": []
    },
    {
      "cell_type": "code",
      "source": [
        "dfcopy.describe().style.background_gradient(cmap=cm, text_color_threshold = 0.1).format(precision=2).highlight_null('red').set_properties(**{'background-color': '#256d7c;', 'color': 'white'}, subset=['emotion'])\n"
      ],
      "metadata": {
        "execution": {
          "iopub.status.busy": "2023-05-08T07:53:29.756599Z",
          "iopub.execute_input": "2023-05-08T07:53:29.756923Z",
          "iopub.status.idle": "2023-05-08T07:53:29.784771Z",
          "shell.execute_reply.started": "2023-05-08T07:53:29.756894Z",
          "shell.execute_reply": "2023-05-08T07:53:29.783971Z"
        },
        "trusted": true,
        "id": "kd1TIt6I4vko"
      },
      "execution_count": null,
      "outputs": []
    },
    {
      "cell_type": "code",
      "source": [
        "# Get dictionary list of image count per class\n",
        "def class_sample(type):\n",
        "    if type.lower() == 'test' or type.lower() == 'train':\n",
        "        path=''\n",
        "        if type.lower() == 'train':\n",
        "            path= TRAIN_PATH\n",
        "        else:\n",
        "            path= TEST_PATH\n",
        "\n",
        "        filepath=path+'/'\n",
        "        class_count = []\n",
        "        class_dict ={}\n",
        "        for folder in os.listdir(filepath) :\n",
        "              class_count.append(len(os.listdir(filepath+folder)))\n",
        "              class_dict[folder]=len(os.listdir(filepath+folder))\n",
        "        class_total = sum(class_count)\n",
        "        return class_total, class_count, class_dict\n",
        "    else:\n",
        "        raise ValueError('Invalid type. Must be \"test\" or \"train\".')\n",
        "\n",
        "\n",
        "def test_train_distribution():\n",
        "      print(\"---- Train Set ----\")\n",
        "      avg_train=class_sample('train')[0]/len(class_sample('train')[1])\n",
        "      print(f'Train class distribution:\\n{class_sample(\"train\")[2]}')\n",
        "      print(\"Average train class: \",round(avg_train))\n",
        "      print('Total train: ', class_sample('train')[0])\n",
        "\n",
        "      print(\"\\n---- Test Set ----\")\n",
        "      avg_test=class_sample('test')[0]/len(class_sample('test')[1])\n",
        "      print(f'Test class distribution:\\n{class_sample(\"test\")[2]}')\n",
        "      print(\"Average test class: \",round(avg_test))\n",
        "      print('Total test: ', class_sample('test')[0])\n",
        "\n",
        "\n",
        "test_train_distribution()\n",
        "\n",
        "# test_samples=class_sample('test')[0]\n",
        "# test_batch_size=sorted([int(test_samples/n) for n in range(1,test_samples+1) if test_samples % n ==0 and test_samples/n<=80],reverse=True)[0]\n"
      ],
      "metadata": {
        "execution": {
          "iopub.status.busy": "2023-05-08T07:53:29.786195Z",
          "iopub.execute_input": "2023-05-08T07:53:29.786522Z",
          "iopub.status.idle": "2023-05-08T07:53:32.427217Z",
          "shell.execute_reply.started": "2023-05-08T07:53:29.786494Z",
          "shell.execute_reply": "2023-05-08T07:53:32.426356Z"
        },
        "trusted": true,
        "id": "qSDFswka4vko"
      },
      "execution_count": null,
      "outputs": []
    },
    {
      "cell_type": "markdown",
      "source": [
        "<div style = \"color: Black;\n",
        "              display: fill;\n",
        "              border-radius: 7px;\n",
        "              background-color: #256d7c;\">\n",
        "    <h1 id = \"data-visualization\"\n",
        "        style = \"padding: 18px;\n",
        "                 color: #f8e7b5;\n",
        "                 font-size: 35px;\n",
        "                 font-family: Cambria;\n",
        "                 font-weight: bold;\">Data Visualization\n",
        "        <a class=\"anchor-link\" id=\"title\" href=\"https://www.kaggle.com/code/charlesanjah/keratoconus-eye-disease-detection-using-cnn#data-visualization\">¶</a>\n",
        "    </h1>\n",
        "</div>"
      ],
      "metadata": {
        "id": "kToDQaVS4vkp"
      }
    },
    {
      "cell_type": "code",
      "source": [
        "df_train = pds.DataFrame(list(class_sample(\"train\")[2].items()), columns=['Emotion', 'Count'])\n",
        "df_train.index.name = 'Emotion'\n",
        "df_test = pds.DataFrame(list(class_sample(\"test\")[2].items()), columns=['Emotion', 'Count'])\n",
        "df_test.index.name = 'Emotion'\n",
        "\n",
        "\n",
        "# plot a barplot with vertical orientation\n",
        "sns.set()\n",
        "plt.figure(figsize=(12, 5))\n",
        "plt.subplot(1, 2, 1)\n",
        "axis = sns.barplot(x='Emotion', y='Count', data=df_train, orient='v', palette='bright')\n",
        "# set labels and title\n",
        "plt.xlabel(\"Facial Expression\", fontsize=12)\n",
        "plt.ylabel(\"Count\", fontsize=12)\n",
        "plt.title(\"(a). Distribution of The Train Images\", fontsize=15)\n",
        "# plt.legend( df_train.Emotion, loc='upper left')\n",
        "# set x-axis tick labels\n",
        "# axis.set_xticks(range(len(df_train.Emotion)), df_train.Emotion)\n",
        "# axis.yaxis.set_major_locator(ticker.MultipleLocator(2.5))\n",
        "\n",
        "plt.subplot(1, 2, 2)\n",
        "sns.barplot(x='Emotion', y='Count', data=df_test, orient='v', palette='bright')\n",
        "plt.xlabel(\"Facial Expression\", fontsize=12)\n",
        "plt.ylabel(\"Count\", fontsize=12)\n",
        "plt.title(\"(b). Distribution of The Test Images\", fontsize=15)\n",
        "plt.show()\n",
        "\n",
        "print('\\n\\n')\n",
        "\n",
        "x_train = npy.array([ len(os.listdir(TRAIN_PATH+'/'+class_name+'/')) for class_name in class_dir])\n",
        "x_test = npy.array([ len(os.listdir(TEST_PATH+'/'+class_name+'/')) for class_name in class_dir])\n",
        "label = class_dir\n",
        "\n",
        "# plot a Pie plot with vertical orientation\n",
        "plt.figure(figsize=(10, 5))\n",
        "ax = plt.subplot(1, 2, 1)\n",
        "# define Seaborn color palette to use\n",
        "palette_color = sns.color_palette('bright')\n",
        "plt.pie(x_train, labels=label, colors=palette_color, autopct='%1.1f%%', startangle=90)\n",
        "ax.set_title('(a). Pie Plot of The Train Images', fontsize=15)\n",
        "\n",
        "ay = plt.subplot(1, 2, 2)\n",
        "plt.pie(x_test, labels=label, colors=palette_color, autopct='%1.1f%%', startangle=90)\n",
        "ay.set_title('(b). Pie Plot of The Test Images', fontsize=15)\n",
        "plt.show()\n",
        "\n"
      ],
      "metadata": {
        "execution": {
          "iopub.status.busy": "2023-05-08T07:53:32.428557Z",
          "iopub.execute_input": "2023-05-08T07:53:32.428883Z",
          "iopub.status.idle": "2023-05-08T07:53:33.23167Z",
          "shell.execute_reply.started": "2023-05-08T07:53:32.428854Z",
          "shell.execute_reply": "2023-05-08T07:53:33.230829Z"
        },
        "trusted": true,
        "id": "WWTx5_wx4vkp"
      },
      "execution_count": null,
      "outputs": []
    },
    {
      "cell_type": "markdown",
      "source": [
        "<div style = \"color: Black;\n",
        "              display: fill;\n",
        "              border-radius: 7px;\n",
        "              background-color: #256d7c;\">\n",
        "    <h1 id = \"data-preprocessing\"\n",
        "        style = \"padding: 18px;\n",
        "                 color: #f8e7b5;\n",
        "                 font-size: 35px;\n",
        "                 font-family: Cambria;\n",
        "                 font-weight: bold;\">Data Preprocessing\n",
        "        <a class=\"anchor-link\" id=\"title\" href=\"https://www.kaggle.com/code/charlesanjah/keratoconus-eye-disease-detection-using-cnn#data-preprocessing\">¶</a>\n",
        "    </h1>\n",
        "</div>"
      ],
      "metadata": {
        "id": "fsY0yGFy4vkp"
      }
    },
    {
      "cell_type": "markdown",
      "source": [
        "<div>\n",
        "    <h2 style = \"padding: 3px;\n",
        "                 color: #256d7c;\n",
        "                 font-size: 30px;\n",
        "                 font-family: Cambria;\n",
        "                 font-weight: bold;\">Oversampling\n",
        "    </h2>\n",
        "</div>"
      ],
      "metadata": {
        "id": "5R_HlJOE4vkp"
      }
    },
    {
      "cell_type": "code",
      "source": [
        "# Oversampling Technique\n",
        "import os\n",
        "from PIL import Image\n",
        "\n",
        "# Define the paths to the original and oversampled dataset\n",
        "train_dir = TRAIN_PATH\n",
        "oversampled_dir = OVERSAMPLED_TRAIN_PATH\n",
        "\n",
        "target_length = 7215 # Using the highest count\n",
        "# target_length = 4101 # Using the average\n",
        "\n",
        "if not os.path.exists(oversampled_dir):\n",
        "    os.mkdir(oversampled_dir)\n",
        "\n",
        "for subfolder in os.listdir(train_dir):\n",
        "    subfolder_path = os.path.join(train_dir, subfolder)\n",
        "    if os.path.isdir(subfolder_path):\n",
        "        num_images = len(os.listdir(subfolder_path))\n",
        "        num_duplicates = target_length // num_images\n",
        "        remainder = target_length % num_images\n",
        "\n",
        "        for i in range(num_duplicates):\n",
        "            for image_file in os.listdir(subfolder_path):\n",
        "                image_path = os.path.join(subfolder_path, image_file)\n",
        "                image = Image.open(image_path)\n",
        "                new_image_file = f\"{i}_{image_file}\"\n",
        "                new_image_path = os.path.join(oversampled_dir, subfolder, new_image_file)\n",
        "                if not os.path.exists(os.path.join(oversampled_dir, subfolder)):\n",
        "                    os.mkdir(os.path.join(oversampled_dir, subfolder))\n",
        "                image.save(new_image_path)\n",
        "\n",
        "        if remainder != 0:\n",
        "            for image_file in os.listdir(subfolder_path)[:remainder]:\n",
        "                image_path = os.path.join(subfolder_path, image_file)\n",
        "                image = Image.open(image_path)\n",
        "                new_image_file = f\"{num_duplicates}_{image_file}\"\n",
        "                new_image_path = os.path.join(oversampled_dir, subfolder, new_image_file)\n",
        "                if not os.path.exists(os.path.join(oversampled_dir, subfolder)):\n",
        "                    os.mkdir(os.path.join(oversampled_dir, subfolder))\n",
        "                image.save(new_image_path)\n"
      ],
      "metadata": {
        "execution": {
          "iopub.status.busy": "2023-05-08T07:53:33.232665Z",
          "iopub.execute_input": "2023-05-08T07:53:33.232962Z",
          "iopub.status.idle": "2023-05-08T07:54:20.239543Z",
          "shell.execute_reply.started": "2023-05-08T07:53:33.232936Z",
          "shell.execute_reply": "2023-05-08T07:54:20.238619Z"
        },
        "trusted": true,
        "id": "2T_YpRwE4vkp"
      },
      "execution_count": null,
      "outputs": []
    },
    {
      "cell_type": "code",
      "source": [
        "# Get dictionary list of image count per class\n",
        "def over_class_sample():\n",
        "        filepath=OVERSAMPLED_TRAIN_PATH+'/'\n",
        "        class_count = []\n",
        "        class_dict ={}\n",
        "        for folder in os.listdir(filepath) :\n",
        "              class_count.append(len(os.listdir(filepath+folder)))\n",
        "              class_dict[folder]=len(os.listdir(filepath+folder))\n",
        "        class_total = sum(class_count)\n",
        "        return class_total, class_count, class_dict\n",
        "\n",
        "\n",
        "# test_samples=class_sample('test')[0]\n",
        "# test_batch_size=sorted([int(test_samples/n) for n in range(1,test_samples+1) if test_samples % n ==0 and test_samples/n<=80],reverse=True)[0]\n"
      ],
      "metadata": {
        "execution": {
          "iopub.status.busy": "2023-05-08T07:54:20.242343Z",
          "iopub.execute_input": "2023-05-08T07:54:20.242705Z",
          "iopub.status.idle": "2023-05-08T07:54:20.251748Z",
          "shell.execute_reply.started": "2023-05-08T07:54:20.24267Z",
          "shell.execute_reply": "2023-05-08T07:54:20.250896Z"
        },
        "trusted": true,
        "id": "rb71Kt9-4vkp"
      },
      "execution_count": null,
      "outputs": []
    },
    {
      "cell_type": "code",
      "source": [
        "df_overtrain = pds.DataFrame(list(over_class_sample()[2].items()), columns=['Emotion', 'Count'])\n",
        "df_overtrain.index.name = 'Emotion'\n",
        "\n",
        "\n",
        "# plot a barplot with vertical orientation\n",
        "sns.set()\n",
        "plt.figure(figsize=(13, 4))\n",
        "plt.subplot(1, 2, 1)\n",
        "axis = sns.barplot(x='Emotion', y='Count', data=df_overtrain, orient='v', palette='bright')\n",
        "# set labels and title\n",
        "plt.xlabel(\"Facial Expression\", fontsize=12)\n",
        "plt.ylabel(\"Count\", fontsize=12)\n",
        "plt.title(\"(a). Distribution of Oversampled Train Images\", fontsize=25)\n",
        "plt.show()\n",
        "\n",
        "\n",
        "\n",
        "def test_train_distribution():\n",
        "      print(\"\\n---- Oversampled Train Set ----\")\n",
        "      avg_train=over_class_sample()[0]/len(over_class_sample()[1])\n",
        "      print(f'Train class distribution:\\n{over_class_sample()[2]}')\n",
        "      print(\"Average train class: \",round(avg_train))\n",
        "      print('Total train: ', over_class_sample()[0])\n",
        "\n",
        "\n",
        "\n",
        "test_train_distribution()\n"
      ],
      "metadata": {
        "execution": {
          "iopub.status.busy": "2023-05-08T07:54:20.253874Z",
          "iopub.execute_input": "2023-05-08T07:54:20.254434Z",
          "iopub.status.idle": "2023-05-08T07:54:20.755646Z",
          "shell.execute_reply.started": "2023-05-08T07:54:20.254408Z",
          "shell.execute_reply": "2023-05-08T07:54:20.754623Z"
        },
        "trusted": true,
        "id": "47sqavQV4vkq"
      },
      "execution_count": null,
      "outputs": []
    },
    {
      "cell_type": "markdown",
      "source": [
        "<div>\n",
        "    <h2 style = \"padding: 3px;\n",
        "                 color: #256d7c;\n",
        "                 font-size: 30px;\n",
        "                 font-family: Cambria;\n",
        "                 font-weight: bold;\">Data Augmentation\n",
        "    </h2>\n",
        "</div>"
      ],
      "metadata": {
        "id": "jU0xhYkB4vkq"
      }
    },
    {
      "cell_type": "code",
      "source": [
        "#Definnig a function to do so\n",
        "def grayscale_RGB_and_upsizing(image,size=[224,224]):\n",
        "    # image = tf.image.grayscale_to_rgb(tf.convert_to_tensor(image))\n",
        "    image = tf.image.resize(tf.convert_to_tensor(image), size)\n",
        "    return image"
      ],
      "metadata": {
        "execution": {
          "iopub.status.busy": "2023-05-08T07:54:20.756946Z",
          "iopub.execute_input": "2023-05-08T07:54:20.757385Z",
          "iopub.status.idle": "2023-05-08T07:54:20.763764Z",
          "shell.execute_reply.started": "2023-05-08T07:54:20.757351Z",
          "shell.execute_reply": "2023-05-08T07:54:20.761813Z"
        },
        "trusted": true,
        "id": "8RNXHcgW4vkq"
      },
      "execution_count": null,
      "outputs": []
    },
    {
      "cell_type": "code",
      "source": [
        "target_size=(48, 48)\n",
        "# target_size=(224, 224)\n",
        "batch_size=32\n",
        "\n",
        "## Train Image Data Generator instance.\n",
        "# We will not apply any transformon specific orientations or features and no initial rescale to the image\n",
        "# We'll only split the image data into train and validation set\n",
        "trainValidation_data_generator = ImgDataGen(\n",
        "                                            # rescale=1./225,\n",
        "                                            rotation_range=10,  # Randomly rotate images by up to 10 degrees\n",
        "                                            zoom_range=0.2,  # Randomly zoom images by up to 20%\n",
        "                                            width_shift_range=0.1,  # Randomly shift images horizontally by up to 10% of the image width\n",
        "                                            height_shift_range=0.1,  # Randomly shift images vertically by up to 10% of the image height\n",
        "                                            shear_range=0.2,  # Randomly apply shearing transformations\n",
        "                                            horizontal_flip=True,  # Randomly flip images horizontally\n",
        "                                            fill_mode='nearest',  # Fill in missing pixels with the nearest value\n",
        "                                            # preprocessing_function=grayscale_RGB_and_upsizing,\n",
        "                                            validation_split=0.2    # set the validation split\n",
        "                                            )\n",
        "\n",
        "# Test Image Data Generator instance for Test data\n",
        "validation_data_generator = ImgDataGen(\n",
        "                                    validation_split=0.14,\n",
        "                                    )\n",
        "\n",
        "# Test Image Data Generator instance for Test data\n",
        "test_data_generator = ImgDataGen(\n",
        "                                # rescale = 1./255,\n",
        "                                )\n",
        "\n",
        "# Set a random seed to synchronize the shuffle order across different runs of the generator\n",
        "# trainValidation_data_generator.set_seed(42)\n"
      ],
      "metadata": {
        "execution": {
          "iopub.status.busy": "2023-05-08T07:54:20.765452Z",
          "iopub.execute_input": "2023-05-08T07:54:20.7658Z",
          "iopub.status.idle": "2023-05-08T07:54:20.7741Z",
          "shell.execute_reply.started": "2023-05-08T07:54:20.76577Z",
          "shell.execute_reply": "2023-05-08T07:54:20.773073Z"
        },
        "trusted": true,
        "id": "gr2yIDTu4vkq"
      },
      "execution_count": null,
      "outputs": []
    },
    {
      "cell_type": "markdown",
      "source": [
        "<div style = \"color: Black;\n",
        "              display: fill;\n",
        "              border-radius: 7px;\n",
        "              background-color: #256d7c;\">\n",
        "    <h1 id = \"create-train-validation-and-test-generators\"\n",
        "        style = \"padding: 18px;\n",
        "                 color: #f8e7b5;\n",
        "                 font-size: 35px;\n",
        "                 font-family: Cambria;\n",
        "                 font-weight: bold;\">Create Train, Validation, and Test Generators\n",
        "        <a class=\"anchor-link\" id=\"title\" href=\"https://www.kaggle.com/code/charlesanjah/keratoconus-eye-disease-detection-using-cnn#create-train-validation-and-test-generators\">¶</a>\n",
        "    </h1>\n",
        "</div>"
      ],
      "metadata": {
        "id": "i7S3oZni4vkq"
      }
    },
    {
      "cell_type": "code",
      "source": [
        "# Successfully mapped the train-images to their classes from the dataframe. Now let's do the same for the test-images.\n",
        "# Here, I will only be rescaling. No other transformations are applies, to preserve originality of the images.\n",
        "\n",
        "classes = ['angry', 'fearful', 'surprised', 'sad']\n",
        "\n",
        "## Mapping images to their classes.\n",
        "print('Train Set Generated - ',end=' ')\n",
        "train_generator = trainValidation_data_generator.flow_from_directory(\n",
        "                                                            directory=OVERSAMPLED_TRAIN_PATH,\n",
        "                                                            # directory=TRAIN_PATH,\n",
        "                                                            target_size=target_size,\n",
        "                                                            batch_size=batch_size,\n",
        "                                                            class_mode='categorical',\n",
        "                                                            color_mode='rgb',\n",
        "                                                            classes=classes,\n",
        "                                                            shuffle=True,\n",
        "                                                            subset='training' # set as training data\n",
        "                                                        )\n",
        "## Mapping images to their classes.\n",
        "print('Validation Set Generated - ',end=' ')\n",
        "validation_generator = trainValidation_data_generator.flow_from_directory(\n",
        "                                                            # directory=TRAIN_PATH,\n",
        "                                                            directory=OVERSAMPLED_TRAIN_PATH,\n",
        "                                                            target_size=target_size,\n",
        "                                                            batch_size=batch_size,\n",
        "                                                            class_mode='categorical',\n",
        "                                                            color_mode='rgb',\n",
        "                                                            classes= classes,\n",
        "                                                            shuffle=False,\n",
        "                                                            subset='validation' # set as validation data\n",
        "                                                        )\n",
        "test_samples=class_sample('test')[0]\n",
        "test_batch_size=batch_size\n",
        "test_steps=int(test_samples/test_batch_size)\n",
        "\n",
        "## Mapping images to their classes.\n",
        "print('Test Set Generated - ',end=' ')\n",
        "test_generator = test_data_generator.flow_from_directory(\n",
        "                                        directory=TEST_PATH,\n",
        "                                        target_size=target_size,\n",
        "                                        class_mode='categorical',\n",
        "                                        color_mode='rgb',\n",
        "                                        classes=classes,\n",
        "                                        shuffle=False,\n",
        "                                        batch_size=test_batch_size\n",
        "                                        )\n",
        "\n",
        "## Mapping shuffled images to their classes.\n",
        "print('Shuffled Test Set Generated - ',end=' ')\n",
        "test_generator_shuffled = test_data_generator.flow_from_directory(\n",
        "                                        TEST_PATH,\n",
        "                                        target_size=target_size,\n",
        "                                        class_mode='categorical',\n",
        "                                        color_mode='rgb',\n",
        "                                        classes=classes,\n",
        "                                        shuffle=True,\n",
        "                                        batch_size=test_batch_size\n",
        "                                        )"
      ],
      "metadata": {
        "execution": {
          "iopub.status.busy": "2023-05-08T07:54:20.775526Z",
          "iopub.execute_input": "2023-05-08T07:54:20.775873Z",
          "iopub.status.idle": "2023-05-08T07:54:23.22974Z",
          "shell.execute_reply.started": "2023-05-08T07:54:20.775843Z",
          "shell.execute_reply": "2023-05-08T07:54:23.228742Z"
        },
        "trusted": true,
        "id": "WzIclO-14vkr"
      },
      "execution_count": null,
      "outputs": []
    },
    {
      "cell_type": "markdown",
      "source": [
        "<div style = \"color: Black;\n",
        "              display: fill;\n",
        "              border-radius: 7px;\n",
        "              background-color: #256d7c;\">\n",
        "    <h1 id = \"more-on-data-analysis\"\n",
        "        style = \"padding: 18px;\n",
        "                 color: #f8e7b5;\n",
        "                 font-size: 35px;\n",
        "                 font-family: Cambria;\n",
        "                 font-weight: bold;\">More on Data Analysis\n",
        "        <a class=\"anchor-link\" id=\"title\" href=\"https://www.kaggle.com/code/charlesanjah/keratoconus-eye-disease-detection-using-cnn#more-on-data-analysis\">¶</a>\n",
        "    </h1>\n",
        "</div>"
      ],
      "metadata": {
        "id": "W0WsMB0a4vkr"
      }
    },
    {
      "cell_type": "code",
      "source": [
        "# From the generator we can get information we will need later\n",
        "# classes=  # os.listdir(TRAIN_PATH+'/')\n",
        "class_dictionary = train_generator.class_indices\n",
        "class_keys = list(train_generator.class_indices.keys())\n",
        "class_values = list(train_generator.class_indices.values())\n",
        "class_count = len(class_keys)\n",
        "\n",
        "print ('test batch size: ' ,test_batch_size, '  test steps: ', test_steps, ' number of classes : ', class_count)\n",
        "\n",
        "train_images, train_labels = next(train_generator)\n",
        "validation_images, validation_labels = next(validation_generator)\n",
        "test_images, test_labels = next(test_generator)\n",
        "\n",
        "print(f'\\nThere are 7 classes: {classes}')\n",
        "print(f'The class dictionary are: {class_dictionary}')\n",
        "print('Class count: ', class_count)\n",
        "\n",
        "print('\\nX_train shape: ', train_images.shape)\n",
        "print('y_train shape: ', train_labels.shape)\n",
        "print('\\nX_test shape: ', test_images.shape)\n",
        "print('y_test shape: ', test_labels.shape)\n",
        "\n",
        "print('\\ntrain_generator sample: ', train_generator.samples)\n",
        "print('validation_generator sample: ', validation_generator.samples)\n",
        "print('test_generator sample: ', test_generator.samples)\n",
        "\n",
        "print('\\ntrain_generator sample: ', train_generator.labels)\n",
        "print('validation_generator sample: ', validation_generator.labels)\n",
        "print('test_generator sample: ', test_generator.labels)\n"
      ],
      "metadata": {
        "execution": {
          "iopub.status.busy": "2023-05-08T07:54:23.231111Z",
          "iopub.execute_input": "2023-05-08T07:54:23.231454Z",
          "iopub.status.idle": "2023-05-08T07:54:23.953223Z",
          "shell.execute_reply.started": "2023-05-08T07:54:23.231422Z",
          "shell.execute_reply": "2023-05-08T07:54:23.951917Z"
        },
        "trusted": true,
        "id": "7sD2HFZ14vkr"
      },
      "execution_count": null,
      "outputs": []
    },
    {
      "cell_type": "code",
      "source": [
        "class_indices = train_generator.class_indices\n",
        "class_counts = {class_name: 0 for class_name in class_indices}\n",
        "num_images = train_generator.samples\n",
        "\n",
        "batch_size = train_generator.batch_size\n",
        "num_batches = len(train_generator)\n",
        "\n",
        "for i in range(num_batches):\n",
        "    batch = next(train_generator)\n",
        "    images, labels = batch\n",
        "    for j in range(len(labels)):\n",
        "        label = npy.argmax(labels[j])  # convert one-hot encoding to integer label\n",
        "        class_name = list(class_indices.keys())[list(class_indices.values()).index(label)]\n",
        "        class_counts[class_name] += 1\n",
        "\n",
        "print(class_counts)\n",
        "print(f\"Total number of images in train generator: {num_images}\")"
      ],
      "metadata": {
        "execution": {
          "iopub.status.busy": "2023-05-08T07:54:23.955474Z",
          "iopub.execute_input": "2023-05-08T07:54:23.955915Z",
          "iopub.status.idle": "2023-05-08T07:54:47.137036Z",
          "shell.execute_reply.started": "2023-05-08T07:54:23.955875Z",
          "shell.execute_reply": "2023-05-08T07:54:47.136002Z"
        },
        "trusted": true,
        "id": "gdEdMEK_4vkr"
      },
      "execution_count": null,
      "outputs": []
    },
    {
      "cell_type": "markdown",
      "source": [
        "<div style = \"color: Black;\n",
        "              display: fill;\n",
        "              border-radius: 7px;\n",
        "              background-color: #256d7c;\">\n",
        "    <h1 id = \"more-on-data-visualization\"\n",
        "        style = \"padding: 18px;\n",
        "                 color: #f8e7b5;\n",
        "                 font-size: 35px;\n",
        "                 font-family: Cambria;\n",
        "                 font-weight: bold;\">More on Data Visualization\n",
        "        <a class=\"anchor-link\" id=\"title\" href=\"https://www.kaggle.com/code/charlesanjah/keratoconus-eye-disease-detection-using-cnn#more-on-data-visualization\">¶</a>\n",
        "    </h1>\n",
        "</div>"
      ],
      "metadata": {
        "id": "U67gcbLe4vkr"
      }
    },
    {
      "cell_type": "code",
      "source": [
        "df_train_gen = pds.DataFrame(list(class_counts.items()), columns=['Emotion', 'Count'])\n",
        "df_train_gen.index.name = 'Emotion'\n",
        "\n",
        "\n",
        "# plot a barplot with vertical orientation\n",
        "sns.set()\n",
        "plt.figure(figsize=(10, 5))\n",
        "sns.barplot(x='Emotion', y='Count', data=df_train_gen, orient='v', palette='bright')\n",
        "plt.xlabel(\"Facial Expression\", fontsize=12)\n",
        "plt.ylabel(\"Count\", fontsize=12)\n",
        "plt.title(\"Balanced Distribution of Train Images with Oversampling Techniques\", fontsize=15)\n",
        "plt.show()"
      ],
      "metadata": {
        "execution": {
          "iopub.status.busy": "2023-05-08T07:54:47.138351Z",
          "iopub.execute_input": "2023-05-08T07:54:47.138944Z",
          "iopub.status.idle": "2023-05-08T07:54:47.421203Z",
          "shell.execute_reply.started": "2023-05-08T07:54:47.138909Z",
          "shell.execute_reply": "2023-05-08T07:54:47.420343Z"
        },
        "trusted": true,
        "id": "EUq3XG8W4vks"
      },
      "execution_count": null,
      "outputs": []
    },
    {
      "cell_type": "code",
      "source": [
        "# Get the sample images, labels, and their filenames\n",
        "# To get the correct filename, turn off the shuffle\n",
        "def plotImageWithNames(gen):\n",
        "    images, labels = next(gen)\n",
        "    filenames = gen.filenames\n",
        "    classes = list(gen.class_indices.keys())\n",
        "\n",
        "    plt.figure(figsize=(20, 30))\n",
        "    length=len(labels)\n",
        "    if length<32:\n",
        "        r=length\n",
        "    else:\n",
        "        r=32\n",
        "    for i in range(r):\n",
        "        plt.subplot(7, 5, i + 1)\n",
        "        image=images[i] /255\n",
        "        plt.imshow(image)\n",
        "        index=npy.argmax(labels[i])\n",
        "        class_name=classes[index]\n",
        "        filename=gen.filenames[i]\n",
        "        plt.title(\n",
        "                    label=f\"{class_name}\", # \\n{filename} \",\n",
        "                    color='blue',\n",
        "                    fontsize=20\n",
        "                    )\n",
        "        plt.axis('off')\n",
        "    plt.show()\n",
        "\n",
        "plotImageWithNames(train_generator)"
      ],
      "metadata": {
        "execution": {
          "iopub.status.busy": "2023-05-08T07:54:47.422384Z",
          "iopub.execute_input": "2023-05-08T07:54:47.42339Z",
          "iopub.status.idle": "2023-05-08T07:54:51.149212Z",
          "shell.execute_reply.started": "2023-05-08T07:54:47.423353Z",
          "shell.execute_reply": "2023-05-08T07:54:51.148278Z"
        },
        "trusted": true,
        "id": "qalqscpd4vks"
      },
      "execution_count": null,
      "outputs": []
    },
    {
      "cell_type": "markdown",
      "source": [
        "<div style = \"color: Black;\n",
        "              display: fill;\n",
        "              border-radius: 7px;\n",
        "              background-color: #256d7c;\">\n",
        "    <h1 id = \"model-development\"\n",
        "        style = \"padding: 18px;\n",
        "                 color: #f8e7b5;\n",
        "                 font-size: 35px;\n",
        "                 font-family: Cambria;\n",
        "                 font-weight: bold;\">Model Development\n",
        "        <a class=\"anchor-link\" id=\"title\" href=\"https://www.kaggle.com/code/charlesanjah/keratoconus-eye-disease-detection-using-cnn#model-development\">¶</a>\n",
        "    </h1>\n",
        "</div>"
      ],
      "metadata": {
        "id": "9BeK3QZX4vks"
      }
    },
    {
      "cell_type": "code",
      "source": [
        "from tensorflow import keras\n",
        "from sklearn import set_config\n",
        "from sklearn.metrics import confusion_matrix, classification_report\n",
        "from tensorflow.keras.preprocessing.image import ImageDataGenerator as ImgDataGen\n",
        "from tensorflow.keras.layers import Flatten, Dense, Dropout, Conv2D, MaxPooling2D, Activation, BatchNormalization\n",
        "from tensorflow.keras.models import Sequential, load_model\n",
        "\n",
        "from tensorflow.keras import layers, optimizers, metrics, regularizers, models\n",
        "from tensorflow.keras.optimizers import Adam, Adamax\n",
        "# from tensorflow.keras.metrics import categorical_crossentropy, sparse_categorical_crossentropy\n"
      ],
      "metadata": {
        "execution": {
          "iopub.status.busy": "2023-05-08T07:54:51.150722Z",
          "iopub.execute_input": "2023-05-08T07:54:51.151337Z",
          "iopub.status.idle": "2023-05-08T07:54:51.247136Z",
          "shell.execute_reply.started": "2023-05-08T07:54:51.151289Z",
          "shell.execute_reply": "2023-05-08T07:54:51.246196Z"
        },
        "trusted": true,
        "id": "FpgrMa2Y4vks"
      },
      "execution_count": null,
      "outputs": []
    },
    {
      "cell_type": "code",
      "source": [
        "# define the image shape for the input layer\n",
        "input_shape=(target_size[0], target_size[1], 3)\n",
        "batch_size = batch_size\n",
        "epochs=60\n",
        "ask_epoch=0\n"
      ],
      "metadata": {
        "execution": {
          "iopub.status.busy": "2023-05-08T07:54:51.24864Z",
          "iopub.execute_input": "2023-05-08T07:54:51.249219Z",
          "iopub.status.idle": "2023-05-08T07:54:51.254145Z",
          "shell.execute_reply.started": "2023-05-08T07:54:51.249186Z",
          "shell.execute_reply": "2023-05-08T07:54:51.253064Z"
        },
        "trusted": true,
        "id": "G-LSBT7_4vkt"
      },
      "execution_count": null,
      "outputs": []
    },
    {
      "cell_type": "markdown",
      "source": [
        "<div style = \"color: Black;\n",
        "              display: fill;\n",
        "              border-radius: 7px;\n",
        "              background-color: #256d7c;\">\n",
        "    <h1 id = \"model-building-and-compiling\"\n",
        "        style = \"padding: 18px;\n",
        "                 color: #f8e7b5;\n",
        "                 font-size: 35px;\n",
        "                 font-family: Cambria;\n",
        "                 font-weight: bold;\">Model Building and Compiling\n",
        "        <a class=\"anchor-link\" id=\"title\" href=\"https://www.kaggle.com/code/charlesanjah/keratoconus-eye-disease-detection-using-cnn#model-building-and-compiling\">¶</a>\n",
        "    </h1>\n",
        "</div>"
      ],
      "metadata": {
        "id": "8EYm1gKP4vkt"
      }
    },
    {
      "cell_type": "code",
      "source": [
        "import tensorflow as tf\n",
        "from tensorflow.keras.models import Model\n",
        "model_name='EfficientNetB3'\n",
        "base_model=tf.keras.applications.efficientnet.EfficientNetB3(\n",
        "                                                            include_top=False,\n",
        "                                                            weights=\"imagenet\",\n",
        "                                                            input_shape=input_shape,\n",
        "                                                            pooling='max'\n",
        "                                                            )\n",
        "\n",
        "# Let's make our base_model trainable to get better results\n",
        "base_model.trainable=True\n",
        "x=base_model.output\n",
        "\n",
        "x=BatchNormalization(\n",
        "                    axis=-1,\n",
        "                    momentum=0.99,\n",
        "                    epsilon=0.001,\n",
        "                    name='batch_norm_x'\n",
        "                    )(x)\n",
        "x = Dense(\n",
        "          256,\n",
        "          kernel_regularizer = regularizers.l2(l = 0.016),\n",
        "          activity_regularizer=regularizers.l1(0.006),\n",
        "          bias_regularizer=regularizers.l1(0.006),\n",
        "          activation='relu',\n",
        "          name='dense_x'\n",
        "          )(x)\n",
        "\n",
        "x=Dropout(\n",
        "          rate=.4,\n",
        "          seed=123,\n",
        "          name='dropout_x'\n",
        "          )(x)\n",
        "\n",
        "output=Dense(\n",
        "            class_count,\n",
        "            activation='softmax',\n",
        "            name='dense_output'\n",
        "            )(x)\n",
        "cnn_model=Model(inputs=base_model.input, outputs=output, name=model_name)\n",
        "learning_rate=.001 # start with this learning rate\n",
        "cnn_model.compile(\n",
        "                  Adamax(learning_rate=learning_rate),\n",
        "                  loss='categorical_crossentropy',\n",
        "                  metrics=['accuracy']\n",
        "                  )\n",
        "\n",
        "# View the model summary\n",
        "cnn_model.summary()"
      ],
      "metadata": {
        "execution": {
          "iopub.status.busy": "2023-05-08T07:54:51.25585Z",
          "iopub.execute_input": "2023-05-08T07:54:51.256185Z",
          "iopub.status.idle": "2023-05-08T07:55:01.563896Z",
          "shell.execute_reply.started": "2023-05-08T07:54:51.256153Z",
          "shell.execute_reply": "2023-05-08T07:55:01.563158Z"
        },
        "collapsed": true,
        "jupyter": {
          "outputs_hidden": true
        },
        "trusted": true,
        "id": "D6tgtjrn4vkt"
      },
      "execution_count": null,
      "outputs": []
    },
    {
      "cell_type": "code",
      "source": [
        "# Plot the Model Diagram\n",
        "set_config(display=\"diagram\")\n",
        "from keras.utils.vis_utils import plot_model\n",
        "plot_model(cnn_model, to_file=model_arch(model_name), show_shapes=True)"
      ],
      "metadata": {
        "execution": {
          "iopub.status.busy": "2023-05-08T07:55:01.577929Z",
          "iopub.execute_input": "2023-05-08T07:55:01.57825Z",
          "iopub.status.idle": "2023-05-08T07:55:05.607351Z",
          "shell.execute_reply.started": "2023-05-08T07:55:01.578218Z",
          "shell.execute_reply": "2023-05-08T07:55:05.605737Z"
        },
        "collapsed": true,
        "jupyter": {
          "outputs_hidden": true
        },
        "trusted": true,
        "id": "vNACOd2_4vku"
      },
      "execution_count": null,
      "outputs": []
    },
    {
      "cell_type": "markdown",
      "source": [
        "<div style = \"color: Black;\n",
        "              display: fill;\n",
        "              border-radius: 7px;\n",
        "              background-color: #256d7c;\">\n",
        "    <h1 id = \"create-a-custom-keras-callback-to-continue-or-halt-training\"\n",
        "        style = \"padding: 18px;\n",
        "                 color: #f8e7b5;\n",
        "                 font-size: 35px;\n",
        "                 font-family: Cambria;\n",
        "                 font-weight: bold;\"> Create a Custom Keras Callback to Continue or Halt Training\n",
        "        <a class=\"anchor-link\" id=\"title\" href=\"https://www.kaggle.com/code/charlesanjah/keratoconus-eye-disease-detection-using-cnn##create-a-custom-keras-callback-to-continue-or-halt-training\">¶</a>\n",
        "    </h1>\n",
        "</div>"
      ],
      "metadata": {
        "id": "oVPUSLjB4vku"
      }
    },
    {
      "cell_type": "code",
      "source": [
        "# Code by https://www.kaggle.com/code/gpiosenka/callback-to-continue-or-halt-training-f1-90\n",
        "class ASK(keras.callbacks.Callback):\n",
        "    def __init__ (self, model, epochs,  ask_epoch): # initialization of the callback\n",
        "        super(ASK, self).__init__()\n",
        "        self.model=model\n",
        "        self.ask_epoch=ask_epoch\n",
        "        self.subask_epoch = int(ask_epoch/2)\n",
        "        self.epochs=epochs\n",
        "        self.ask=True # if True query the user on a specified epoch\n",
        "\n",
        "    def on_train_begin(self, logs=None): # this runs on the beginning of training\n",
        "        if self.ask_epoch == 0:\n",
        "            print('you set ask_epoch = 0, ask_epoch will be set to 1', flush=True)\n",
        "            self.ask_epoch=1\n",
        "        if self.ask_epoch >= self.epochs: # you are running for epochs but ask_epoch>epochs\n",
        "            print('ask_epoch >= epochs, will train for ', epochs, ' epochs', flush=True)\n",
        "            self.ask=False # do not query the user\n",
        "        if self.epochs == 1:\n",
        "            self.ask=False # running only for 1 epoch so do not query user\n",
        "        else:\n",
        "            print('Training will proceed until epoch', ask_epoch,' then you will be asked to')\n",
        "            print(' enter H to halt training or enter an integer for how many more epochs to run then be asked again')\n",
        "        self.start_time= time.time() # set the time at which training started\n",
        "\n",
        "    def on_train_end(self, logs=None):   # runs at the end of training\n",
        "        tr_duration=time.time() - self.start_time   # determine how long the training cycle lasted\n",
        "        hours = tr_duration // 3600\n",
        "        minutes = (tr_duration - (hours * 3600)) // 60\n",
        "        seconds = tr_duration - ((hours * 3600) + (minutes * 60))\n",
        "        msg = f'training elapsed time was {str(hours)} hours, {minutes:4.1f} minutes, {seconds:4.2f} seconds)'\n",
        "        print (msg, flush=True) # print out training duration time\n",
        "\n",
        "    def on_epoch_end(self, epoch, logs=None):  # method runs on the end of each epoch\n",
        "\n",
        "        if self.ask: # are the conditions right to query the user?\n",
        "            if epoch + 1 ==self.ask_epoch: # is this epoch the one for quering the user?\n",
        "                print('\\n Enter H to end training or  an integer for the number of additional epochs to run then ask again')\n",
        "                ans=input()\n",
        "\n",
        "                if ans == 'H' or ans =='h' or ans == '0': # quit training for these conditions\n",
        "                    print ('you entered ', ans, ' Training halted on epoch ', epoch+1, ' due to user input\\n', flush=True)\n",
        "                    self.model.stop_training = True # halt training\n",
        "                else: # user wants to continue training\n",
        "                    self.ask_epoch += int(ans)\n",
        "                    if self.ask_epoch > self.epochs:\n",
        "                        print('\\nYou earlier specified a maximum epochs of ', self.epochs, '\\n, its seems that you want to train for a total of', self.ask_epoch,'\\n\\n Please confirm your action, please enter \"Y\", or \"N\" to end training at ', self.epochs)\n",
        "                        ans=input()\n",
        "\n",
        "                        if ans == 'Y' or ans =='y':\n",
        "                            self.epochs = self.ask_epoch\n",
        "                        else:\n",
        "                             print('\\nYou specified maximum epochs of as ', self.epochs, ' cannot train for ', self.ask_epoch, flush =True)\n",
        "                    else:\n",
        "                        print ('you entered ', ans, ' Training will continue to epoch ', self.ask_epoch, flush=True)\n",
        "\n",
        "ask=ASK(cnn_model, epochs,  ask_epoch)"
      ],
      "metadata": {
        "execution": {
          "iopub.status.busy": "2023-05-08T07:55:05.610073Z",
          "iopub.execute_input": "2023-05-08T07:55:05.610469Z",
          "iopub.status.idle": "2023-05-08T07:55:05.626094Z",
          "shell.execute_reply.started": "2023-05-08T07:55:05.610429Z",
          "shell.execute_reply": "2023-05-08T07:55:05.625052Z"
        },
        "trusted": true,
        "id": "alF6yjlw4vku"
      },
      "execution_count": null,
      "outputs": []
    },
    {
      "cell_type": "markdown",
      "source": [
        "<div style = \"color: Black;\n",
        "              display: fill;\n",
        "              border-radius: 7px;\n",
        "              background-color: #256d7c;\">\n",
        "    <h1 id = \"checkpoint-callback\"\n",
        "        style = \"padding: 18px;\n",
        "                 color: #f8e7b5;\n",
        "                 font-size: 35px;\n",
        "                 font-family: Cambria;\n",
        "                 font-weight: bold;\">Checkpoint Callback\n",
        "        <a class=\"anchor-link\" id=\"title\" href=\"https://www.kaggle.com/code/charlesanjah/keratoconus-eye-disease-detection-using-cnn##checkpoint-callback\">¶</a>\n",
        "    </h1>\n",
        "</div>"
      ],
      "metadata": {
        "id": "OHnA3ZST4vku"
      }
    },
    {
      "cell_type": "markdown",
      "source": [
        "<div>\n",
        "    <h2 style = \"padding: 3px;\n",
        "                 color: #256d7c;\n",
        "                 font-size: 30px;\n",
        "                 font-family: Cambria;\n",
        "                 font-weight: bold;\">Checkpoint 1: Save Weight Only\n",
        "    </h2>\n",
        "</div>\n",
        "\n",
        "Creates a single collection of TensorFlow checkpoint files that are updated at the end of each epoch.\n",
        "\n",
        "As long as two models share the same architecture, the weights between them can be shared. So, when restoring a model from weights-only, create a model with the same architecture as the original model and then set its weights."
      ],
      "metadata": {
        "id": "u6RH57J94vku"
      }
    },
    {
      "cell_type": "code",
      "source": [
        "# starting the Checkpoint for the model\n",
        "# checkpoint_dir = os.path.dirname(checkpoint_path)\n",
        "\n",
        "check_point = tf.keras.callbacks.ModelCheckpoint(\n",
        "                                          filepath=checkpoint_path(model_name),\n",
        "                                          save_weights_only=True,\n",
        "                                          save_best_only=True,\n",
        "                                          monitor=\"val_accuracy\",\n",
        "                                          verbose = 1,\n",
        "                                        )\n",
        "\n",
        "reduce_learning = tf.keras.callbacks.ReduceLROnPlateau(\n",
        "                                            monitor=\"val_accuracy\",\n",
        "                                            # factor=0.5,\n",
        "                                            patience=2,\n",
        "                                            verbose=1\n",
        "                                            )\n",
        "\n",
        "early_stop = tf.keras.callbacks.EarlyStopping(\n",
        "                                       monitor=\"val_accuracy\",\n",
        "                                       min_delta=0.0005,\n",
        "                                       patience=11,\n",
        "                                       verbose=1,\n",
        "                                       restore_best_weights=True\n",
        "                                       )\n",
        "\n",
        "callbacks = [\n",
        "            check_point,\n",
        "            reduce_learning,\n",
        "            early_stop,\n",
        "            ask\n",
        "          ]"
      ],
      "metadata": {
        "execution": {
          "iopub.status.busy": "2023-05-08T07:55:05.627736Z",
          "iopub.execute_input": "2023-05-08T07:55:05.628065Z",
          "iopub.status.idle": "2023-05-08T07:55:05.638887Z",
          "shell.execute_reply.started": "2023-05-08T07:55:05.628039Z",
          "shell.execute_reply": "2023-05-08T07:55:05.638036Z"
        },
        "trusted": true,
        "id": "vm74mwPU4vku"
      },
      "execution_count": null,
      "outputs": []
    },
    {
      "cell_type": "markdown",
      "source": [
        "<div>\n",
        "    <h2 style = \"padding: 3px;\n",
        "                 color: #256d7c;\n",
        "                 font-size: 30px;\n",
        "                 font-family: Cambria;\n",
        "                 font-weight: bold;\">Checkpoint 2: Save Entire Model\n",
        "    </h2>\n",
        "</div>\n"
      ],
      "metadata": {
        "id": "1iX4IjVe4vkv"
      }
    },
    {
      "cell_type": "code",
      "source": [
        "# starting the Checkpoint for the model\n",
        "e_checkpoint_path = \"models/fedav_best_model.h5\"\n",
        "checkpoint_dir = os.path.dirname(e_checkpoint_path)\n",
        "\n",
        "e_check_point = tf.keras.callbacks.ModelCheckpoint(\n",
        "                                          filepath=e_checkpoint_path,\n",
        "                                          save_weights_only=True,\n",
        "                                          save_best_only=True,\n",
        "                                          monitor=\"val_accuracy\",\n",
        "                                          verbose = 1,\n",
        "                                        )\n",
        "\n",
        "e_reduce_learning = tf.keras.callbacks.ReduceLROnPlateau(\n",
        "                                            monitor=\"val_accuracy\",\n",
        "                                            # factor=0.5,\n",
        "                                            patience=2,\n",
        "                                            verbose=1\n",
        "                                            )\n",
        "\n",
        "e_early_stop = tf.keras.callbacks.EarlyStopping(\n",
        "                                       monitor=\"val_accuracy\",\n",
        "                                       min_delta=0.0005,\n",
        "                                       patience=11,\n",
        "                                       verbose=1,\n",
        "                                       restore_best_weights=True\n",
        "                                       )\n",
        "\n",
        "e_callbacks = [\n",
        "#             e_check_point,\n",
        "            e_reduce_learning,\n",
        "            e_early_stop,\n",
        "            ask\n",
        "          ]"
      ],
      "metadata": {
        "execution": {
          "iopub.status.busy": "2023-05-08T07:55:05.640325Z",
          "iopub.execute_input": "2023-05-08T07:55:05.641296Z",
          "iopub.status.idle": "2023-05-08T07:55:05.651728Z",
          "shell.execute_reply.started": "2023-05-08T07:55:05.641266Z",
          "shell.execute_reply": "2023-05-08T07:55:05.650735Z"
        },
        "trusted": true,
        "id": "bap4MP-34vkv"
      },
      "execution_count": null,
      "outputs": []
    },
    {
      "cell_type": "markdown",
      "source": [
        "<div style = \"color: Black;\n",
        "              display: fill;\n",
        "              border-radius: 7px;\n",
        "              background-color: #256d7c;\">\n",
        "    <h1 id = \"model-training\"\n",
        "        style = \"padding: 18px;\n",
        "                 color: #f8e7b5;\n",
        "                 font-size: 35px;\n",
        "                 font-family: Cambria;\n",
        "                 font-weight: bold;\">Model Training\n",
        "        <a class=\"anchor-link\" id=\"title\" href=\"https://www.kaggle.com/code/charlesanjah/keratoconus-eye-disease-detection-using-cnn##model-training\">¶</a>\n",
        "    </h1>\n",
        "</div>"
      ],
      "metadata": {
        "id": "7-TrO5mV4vkv"
      }
    },
    {
      "cell_type": "code",
      "source": [
        "model_history=cnn_model.fit(\n",
        "                  train_generator,\n",
        "                  steps_per_epoch=train_generator.n//train_generator.batch_size,\n",
        "                  epochs=epochs,\n",
        "                  verbose=1,\n",
        "                  callbacks=callbacks,\n",
        "                  validation_data=validation_generator,\n",
        "                #   validation_steps=None,\n",
        "                  validation_steps= validation_generator.n//validation_generator.batch_size,\n",
        "                  )\n"
      ],
      "metadata": {
        "execution": {
          "iopub.status.busy": "2023-05-08T07:55:05.653724Z",
          "iopub.execute_input": "2023-05-08T07:55:05.654344Z",
          "iopub.status.idle": "2023-05-08T09:28:16.718141Z",
          "shell.execute_reply.started": "2023-05-08T07:55:05.654236Z",
          "shell.execute_reply": "2023-05-08T09:28:16.717198Z"
        },
        "trusted": true,
        "id": "UuKANPtF4vkv"
      },
      "execution_count": null,
      "outputs": []
    },
    {
      "cell_type": "markdown",
      "source": [
        "<div style = \"color: Black;\n",
        "              display: fill;\n",
        "              border-radius: 7px;\n",
        "              background-color: #256d7c;\">\n",
        "    <h1 id = \"acuracy-and-loss-function-graph\"\n",
        "        style = \"padding: 18px;\n",
        "                 color: #f8e7b5;\n",
        "                 font-size: 35px;\n",
        "                 font-family: Cambria;\n",
        "                 font-weight: bold;\">Accuracy and Loss Function Graph\n",
        "        <a class=\"anchor-link\" id=\"title\" href=\"https://www.kaggle.com/code/charlesanjah/keratoconus-eye-disease-detection-using-cnn#acuracy-and-loss-function-graph\">¶</a>\n",
        "    </h1>\n",
        "</div>"
      ],
      "metadata": {
        "id": "murgaBrP4vkv"
      }
    },
    {
      "cell_type": "code",
      "source": [
        "from pylab import rcParams\n",
        "acc = model_history.history['accuracy']\n",
        "val_acc = model_history.history['val_accuracy']\n",
        "loss = model_history.history['loss']\n",
        "val_loss = model_history.history['val_loss']\n",
        "start_epoch = 0\n",
        "Epoch_count=len(acc)+ start_epoch\n",
        "Epochs=[]\n",
        "for i in range (start_epoch ,Epoch_count):\n",
        "    Epochs.append(i+1)\n",
        "index_loss=npy.argmin(val_loss)   #   this is the epoch with the lowest validation loss\n",
        "val_lowest=val_loss[index_loss]\n",
        "index_acc=npy.argmax(val_acc)\n",
        "\n",
        "\n",
        "# summarize history for accuracy using reLU\n",
        "sns.set()\n",
        "plt.figure(figsize=(10, 5))\n",
        "plt.subplot(2, 2, 1)\n",
        "plt.plot(acc)\n",
        "plt.plot(val_acc)\n",
        "plt.title('Training and Validation Accuracy')\n",
        "plt.ylabel('Accuracy')\n",
        "plt.xlabel('Epoch')\n",
        "plt.legend(['Train', 'Validation'], loc='upper left')\n",
        "\n",
        "\n",
        "\n",
        "# summarize history for loss using reLU\n",
        "plt.subplot(2, 2, 2)\n",
        "plt.plot(loss)\n",
        "plt.plot(val_loss)\n",
        "plt.title('Training and Validation Loss')\n",
        "plt.ylabel('Loss')\n",
        "plt.xlabel('Epoch')\n",
        "plt.legend(['Train', 'Validation'], loc='upper right')\n",
        "plt.show()\n"
      ],
      "metadata": {
        "execution": {
          "iopub.status.busy": "2023-05-08T09:28:16.741341Z",
          "iopub.execute_input": "2023-05-08T09:28:16.741758Z",
          "iopub.status.idle": "2023-05-08T09:28:17.140674Z",
          "shell.execute_reply.started": "2023-05-08T09:28:16.741727Z",
          "shell.execute_reply": "2023-05-08T09:28:17.139795Z"
        },
        "trusted": true,
        "id": "Xe0Br_ev4vkv"
      },
      "execution_count": null,
      "outputs": []
    },
    {
      "cell_type": "code",
      "source": [
        "# Code by https://www.kaggle.com/code/gpiosenka/callback-to-continue-or-halt-training-f1-90\n",
        "def trainValPlot(tr_data, start_epoch):\n",
        "    # Plot the training and validation data\n",
        "    tacc=tr_data.history['accuracy']\n",
        "    tloss=tr_data.history['loss']\n",
        "    vacc=tr_data.history['val_accuracy']\n",
        "    vloss=tr_data.history['val_loss']\n",
        "    Epoch_count=len(tacc)+ start_epoch\n",
        "    Epochs=[]\n",
        "    for i in range (start_epoch ,Epoch_count):\n",
        "        Epochs.append(i+1)\n",
        "    index_loss=npy.argmin(vloss)   #   this is the epoch with the lowest validation loss\n",
        "    val_lowest=vloss[index_loss]\n",
        "    index_acc=npy.argmax(vacc)\n",
        "    acc_highest=vacc[index_acc]\n",
        "    plt.style.use('fivethirtyeight')\n",
        "    sc_label='best epoch= '+ str(index_loss+1 +start_epoch)\n",
        "    vc_label='best epoch= '+ str(index_acc + 1+ start_epoch)\n",
        "    fig,axes=plt.subplots(nrows=1, ncols=2, figsize=(10,5))\n",
        "    sns.set()\n",
        "    axes[0].plot (Epochs,tacc,'r',label= 'Training Accuracy')\n",
        "    axes[0].plot (Epochs,vacc,'g',label= 'Validation Accuracy')\n",
        "    axes[0].scatter(index_acc+1 +start_epoch,acc_highest, s=150, c= 'blue', label=vc_label)\n",
        "    axes[0].set_title('Training and Validation Accuracy', fontsize=35)\n",
        "    axes[0].set_xlabel('Epochs', fontsize=25)\n",
        "    axes[0].set_ylabel('Accuracy', fontsize=25)\n",
        "    axes[0].legend()\n",
        "    axes[1].plot(Epochs,tloss, 'r', label='Training loss')\n",
        "    axes[1].plot(Epochs,vloss,'g',label='Validation loss' )\n",
        "    axes[1].scatter(index_loss+1 +start_epoch,val_lowest, s=150, c= 'blue', label=sc_label)\n",
        "    axes[1].set_title('Training and Validation Loss', fontsize=35)\n",
        "    axes[1].set_xlabel('Epochs', fontsize=25)\n",
        "    axes[1].set_ylabel('Loss', fontsize=25)\n",
        "    axes[1].legend()\n",
        "    plt.tight_layout\n",
        "    plt.show()\n",
        "\n",
        "trainValPlot(model_history,0)\n"
      ],
      "metadata": {
        "execution": {
          "iopub.status.busy": "2023-05-08T09:28:17.141909Z",
          "iopub.execute_input": "2023-05-08T09:28:17.142958Z",
          "iopub.status.idle": "2023-05-08T09:28:17.733468Z",
          "shell.execute_reply.started": "2023-05-08T09:28:17.142919Z",
          "shell.execute_reply": "2023-05-08T09:28:17.732511Z"
        },
        "trusted": true,
        "id": "VKR-OPWu4vkw"
      },
      "execution_count": null,
      "outputs": []
    },
    {
      "cell_type": "markdown",
      "source": [
        "<div style = \"color: Black;\n",
        "              display: fill;\n",
        "              border-radius: 7px;\n",
        "              background-color: #256d7c;\">\n",
        "    <h1 id = \"model-evaluation\"\n",
        "        style = \"padding: 18px;\n",
        "                 color: #f8e7b5;\n",
        "                 font-size: 35px;\n",
        "                 font-family: Cambria;\n",
        "                 font-weight: bold;\">Model Evaluation\n",
        "        <a class=\"anchor-link\" id=\"title\" href=\"https://www.kaggle.com/code/charlesanjah/keratoconus-eye-disease-detection-using-cnn##model-evaluation\">¶</a>\n",
        "    </h1>\n",
        "</div>"
      ],
      "metadata": {
        "id": "Io6v1ipo4vkw"
      }
    },
    {
      "cell_type": "code",
      "source": [
        "# Rebuild a fresh, untrained model and evaluate it on the test set.\n",
        "# An untrained model will perform at chance levels (~10% accuracy)\n",
        "# Create a basic model instance\n",
        "model = cnn_model\n",
        "\n",
        "# Evaluate the model\n",
        "loss, acc = model.evaluate(train_generator, verbose=2)"
      ],
      "metadata": {
        "execution": {
          "iopub.status.busy": "2023-05-08T09:28:17.734817Z",
          "iopub.execute_input": "2023-05-08T09:28:17.735334Z",
          "iopub.status.idle": "2023-05-08T09:28:58.783119Z",
          "shell.execute_reply.started": "2023-05-08T09:28:17.735278Z",
          "shell.execute_reply": "2023-05-08T09:28:58.782016Z"
        },
        "trusted": true,
        "id": "fhrnb_7M4vkw"
      },
      "execution_count": null,
      "outputs": []
    },
    {
      "cell_type": "code",
      "source": [
        "# Rebuild a fresh, untrained model and evaluate it on the test set.\n",
        "# An untrained model will perform at chance levels (~10% accuracy)\n",
        "# Create a basic model instance\n",
        "model = cnn_model\n",
        "\n",
        "# Evaluate the model\n",
        "loss, acc = model.evaluate(validation_generator, verbose=2)"
      ],
      "metadata": {
        "execution": {
          "iopub.status.busy": "2023-05-08T09:28:58.784682Z",
          "iopub.execute_input": "2023-05-08T09:28:58.785025Z",
          "iopub.status.idle": "2023-05-08T09:29:09.113714Z",
          "shell.execute_reply.started": "2023-05-08T09:28:58.784992Z",
          "shell.execute_reply": "2023-05-08T09:29:09.11253Z"
        },
        "trusted": true,
        "id": "3uqzPFKp4vkw"
      },
      "execution_count": null,
      "outputs": []
    },
    {
      "cell_type": "code",
      "source": [
        "# Loads the weights\n",
        "cnn_model.load_weights(checkpoint_path(model_name=model_name))\n",
        "\n",
        "# Re-evaluate the model\n",
        "loss, acc = cnn_model.evaluate(validation_generator, verbose=2)\n",
        "print(\"Restored model, validation accuracy: {:5.2f}%\".format(100 * acc))"
      ],
      "metadata": {
        "execution": {
          "iopub.status.busy": "2023-05-08T09:29:09.115508Z",
          "iopub.execute_input": "2023-05-08T09:29:09.116211Z",
          "iopub.status.idle": "2023-05-08T09:29:22.931527Z",
          "shell.execute_reply.started": "2023-05-08T09:29:09.116174Z",
          "shell.execute_reply": "2023-05-08T09:29:22.93055Z"
        },
        "trusted": true,
        "id": "6Pd4rYrL4vkw"
      },
      "execution_count": null,
      "outputs": []
    },
    {
      "cell_type": "code",
      "source": [
        "# Loads the weights\n",
        "cnn_model.load_weights(checkpoint_path(model_name))\n",
        "\n",
        "# Re-evaluate the model\n",
        "loss, acc = cnn_model.evaluate(test_images, test_labels, verbose=2)\n",
        "print(\"Restored model, accuracy on New Test data: {:5.2f}%\".format(100 * acc))"
      ],
      "metadata": {
        "execution": {
          "iopub.status.busy": "2023-05-08T09:29:22.93395Z",
          "iopub.execute_input": "2023-05-08T09:29:22.934405Z",
          "iopub.status.idle": "2023-05-08T09:29:26.082384Z",
          "shell.execute_reply.started": "2023-05-08T09:29:22.93435Z",
          "shell.execute_reply": "2023-05-08T09:29:26.080921Z"
        },
        "trusted": true,
        "id": "-Qbh0q5S4vkx"
      },
      "execution_count": null,
      "outputs": []
    },
    {
      "cell_type": "markdown",
      "source": [
        "<div style = \"color: Black;\n",
        "              display: fill;\n",
        "              border-radius: 7px;\n",
        "              background-color: #256d7c;\">\n",
        "    <h1 id = \"prediction-on-test-images\"\n",
        "        style = \"padding: 18px;\n",
        "                 color: #f8e7b5;\n",
        "                 font-size: 35px;\n",
        "                 font-family: Cambria;\n",
        "                 font-weight: bold;\">Prediction on Test Images\n",
        "        <a class=\"anchor-link\" id=\"title\" href=\"https://www.kaggle.com/code/charlesanjah/keratoconus-eye-disease-detection-using-cnn##prediction-on-test-images\">¶</a>\n",
        "    </h1>\n",
        "</div>"
      ],
      "metadata": {
        "id": "YVhgh9NR4vkx"
      }
    },
    {
      "cell_type": "code",
      "source": [
        "#\n",
        "def ModelPredictionOnTestDataset(test_generator=test_generator):\n",
        "#     test_steps= test_generator.n//test_generator.batch_size\n",
        "    y_pred= []\n",
        "    y_label=test_generator.labels\n",
        "    classes=list(train_generator.class_indices.keys())\n",
        "    class_count=len(classes)\n",
        "    wrong_predictions=0\n",
        "\n",
        "    # predict on the test set\n",
        "    preds=cnn_model.predict(test_generator, test_steps, verbose=1)\n",
        "\n",
        "    total_predictions=len(preds)\n",
        "    print(f'total prediction: {total_predictions}')\n",
        "    for i, p in enumerate(preds):\n",
        "            pred_index=npy.argmax(p)\n",
        "            # labels are integer values\n",
        "            true_index=test_generator.labels[i]\n",
        "            if pred_index != true_index:\n",
        "                # a misclassification has occurred\n",
        "                wrong_predictions=wrong_predictions + 1\n",
        "            y_pred.append(pred_index)\n",
        "    acc=( 1-wrong_predictions/total_predictions) * 100\n",
        "    print(f'\\n{wrong_predictions} out of {total_predictions} tested images could not be detected properly.\\nAccuracy of {acc:6.2f}\\n')\n",
        "    ypred=npy.array(y_pred)\n",
        "    ytrue=npy.array(y_label)\n",
        "    if class_count <=30:\n",
        "        cm = confusion_matrix(ytrue, ypred )\n",
        "        # plot the confusion matrix\n",
        "        plt.figure(figsize=(8, 4))\n",
        "        sns.heatmap(cm, annot=True, vmin=0, fmt='g', cmap='Blues', cbar=False)\n",
        "        plt.xticks(npy.arange(class_count)+.5, classes, rotation=90)\n",
        "        plt.yticks(npy.arange(class_count)+.5, classes, rotation=0)\n",
        "        plt.xlabel(\"Predicted\")\n",
        "        plt.ylabel(\"Actual\")\n",
        "        plt.title(\"Confusion Matrix on Validation Data\", fontsize=40)\n",
        "        plt.show()\n",
        "    clr = classification_report(y_label, y_pred, target_names=classes, digits= 5) # create classification report\n",
        "    print(\"Classification Report on Validation Data:\\n-------------------------------------\\n\", clr)\n",
        "\n",
        "#     # Plot the confusion matrix\n",
        "#         ConfusionMatrix(\n",
        "#                         label_test=ytrue,\n",
        "#                         label_prep=ypred,\n",
        "#                         class_count=class_count,\n",
        "#                         class_keys=class_keys,\n",
        "#                         heada=' for Entire Test Set'\n",
        "#                         )\n",
        "\n",
        "    return wrong_predictions, total_predictions\n",
        "\n"
      ],
      "metadata": {
        "execution": {
          "iopub.status.busy": "2023-05-08T09:29:26.083883Z",
          "iopub.execute_input": "2023-05-08T09:29:26.084814Z",
          "iopub.status.idle": "2023-05-08T09:29:26.094805Z",
          "shell.execute_reply.started": "2023-05-08T09:29:26.084778Z",
          "shell.execute_reply": "2023-05-08T09:29:26.093863Z"
        },
        "trusted": true,
        "id": "d2YdtrbO4vkz"
      },
      "execution_count": null,
      "outputs": []
    },
    {
      "cell_type": "code",
      "source": [
        "# Validation\n",
        "wrong_predictions, total_predictions = ModelPredictionOnTestDataset(validation_generator)"
      ],
      "metadata": {
        "execution": {
          "iopub.status.busy": "2023-05-08T09:29:26.096214Z",
          "iopub.execute_input": "2023-05-08T09:29:26.096583Z",
          "iopub.status.idle": "2023-05-08T09:29:37.67212Z",
          "shell.execute_reply.started": "2023-05-08T09:29:26.09655Z",
          "shell.execute_reply": "2023-05-08T09:29:37.670955Z"
        },
        "trusted": true,
        "id": "vJgnXx9f4vkz"
      },
      "execution_count": null,
      "outputs": []
    },
    {
      "cell_type": "code",
      "source": [
        "# Test Set\n",
        "ModelPredictionOnTestDataset()"
      ],
      "metadata": {
        "execution": {
          "iopub.status.busy": "2023-05-08T09:29:37.673744Z",
          "iopub.execute_input": "2023-05-08T09:29:37.674119Z",
          "iopub.status.idle": "2023-05-08T09:30:12.183072Z",
          "shell.execute_reply.started": "2023-05-08T09:29:37.674086Z",
          "shell.execute_reply": "2023-05-08T09:30:12.182124Z"
        },
        "trusted": true,
        "id": "-Akqiz1Y4vkz"
      },
      "execution_count": null,
      "outputs": []
    },
    {
      "cell_type": "markdown",
      "source": [
        "<div>\n",
        "    <h2 style = \"padding: 3px;\n",
        "                 color: #256d7c;\n",
        "                 font-size: 30px;\n",
        "                 font-family: Cambria;\n",
        "                 font-weight: bold;\">Print Predicted Images: Unshuffled Test Set\n",
        "    </h2>\n",
        "</div>"
      ],
      "metadata": {
        "id": "1ZpXuMWC4vkz"
      }
    },
    {
      "cell_type": "code",
      "source": [
        "#\n",
        "test_images, test_labels = next(test_generator)\n",
        "preds = cnn_model.predict(test_images)\n",
        "# One hot conversion\n",
        "label_prep = npy.argmax(preds, axis = 1)\n",
        "label_test = npy.argmax(test_labels, axis = 1)\n",
        "# Reshape\n",
        "label_prep = label_prep.reshape((-1, 1))\n",
        "label_test = npy.reshape(label_test, (len(label_test), 1))\n",
        "\n",
        "print('correct prediction:', npy.sum((label_test == label_prep)*1)/test_batch_size,'\\n')\n",
        "\n",
        "\n",
        "def compare(label_prep, gen=train_generator):\n",
        "    class_dictionary = gen.class_indices\n",
        "    for key, value in class_dictionary.items():\n",
        "        if value == label_prep:\n",
        "             return key\n",
        "\n",
        "def dif(label_test, label_prep, gen=train_generator):\n",
        "    class_dictionary = gen.class_indices\n",
        "    test = ''\n",
        "    id = ''\n",
        "    for key, value in class_dictionary.items():\n",
        "        if value == label_test:\n",
        "            test = key\n",
        "        if value == label_prep:\n",
        "            id = key\n",
        "    return test, id\n",
        "\n",
        "#Code by Hitesh Kumar https://www.kaggle.com/hitzz97/emotion-detection\n",
        "\n",
        "fig = plt.figure(figsize=((20, 30)))\n",
        "\n",
        "# k = 0\n",
        "for j in range(len(label_prep)):\n",
        "    ax = plt.subplot(7, 5, j+1)\n",
        "    px = test_images[j]/255\n",
        "#     k += 1\n",
        "    ax.imshow(px)\n",
        "    ax.set_xticks([])\n",
        "    ax.set_yticks([])\n",
        "\n",
        "    if label_test[j] == label_prep[j]:\n",
        "        for axis in ['top','bottom','left','right']:\n",
        "            ax.spines[axis].set_linewidth(15)\n",
        "            ax.spines[axis].set_color('green')\n",
        "        ax.set_title(\n",
        "                    compare(label_prep[j]),\n",
        "                    color='green',\n",
        "                    fontsize=35\n",
        "                     )\n",
        "\n",
        "    else:\n",
        "        for axis in ['top','bottom','left','right']:\n",
        "            ax.spines[axis].set_linewidth(15)\n",
        "            ax.spines[axis].set_color('red')\n",
        "        ax.set_title(\n",
        "                    'Pred:'+dif(label_test[j], label_prep[j])[1]+\" | Act:\"+ dif(label_test[j], label_prep[j])[0],\n",
        "                    color='red',\n",
        "                    fontsize=35\n",
        "                    )\n",
        "    plt.tight_layout()"
      ],
      "metadata": {
        "execution": {
          "iopub.status.busy": "2023-05-08T09:30:12.184385Z",
          "iopub.execute_input": "2023-05-08T09:30:12.185008Z",
          "iopub.status.idle": "2023-05-08T09:30:25.946061Z",
          "shell.execute_reply.started": "2023-05-08T09:30:12.184966Z",
          "shell.execute_reply": "2023-05-08T09:30:25.945203Z"
        },
        "trusted": true,
        "id": "I6IbQqtt4vk0"
      },
      "execution_count": null,
      "outputs": []
    },
    {
      "cell_type": "markdown",
      "source": [
        "<div>\n",
        "    <h2 style = \"padding: 3px;\n",
        "                 color: #256d7c;\n",
        "                 font-size: 30px;\n",
        "                 font-family: Cambria;\n",
        "                 font-weight: bold;\">Print Predicted Images: Shuffled Test Set\n",
        "    </h2>\n",
        "</div>"
      ],
      "metadata": {
        "id": "bNAWIOy-4vk0"
      }
    },
    {
      "cell_type": "code",
      "source": [
        "#Code by Hitesh Kumar https://www.kaggle.com/hitzz97/emotion-detection\n",
        "\n",
        "\n",
        "test_images, test_labels = next(test_generator_shuffled)\n",
        "preds = cnn_model.predict(test_images)\n",
        "# print(preds)\n",
        "idx = npy.argmax(preds, axis = 1)\n",
        "# test_labels = test_labels.astype(int)\n",
        "test_labels = npy.argmax(test_labels, axis = 1)\n",
        "idx = idx.reshape((-1, 1))\n",
        "test_labels = npy.reshape(test_labels, (len(test_labels), 1))\n",
        "# print()\n",
        "print('correct prediction:', npy.sum((test_labels == idx)*1)/test_batch_size)\n",
        "\n",
        "\n",
        "def compare(idx, train_generator):\n",
        "    class_dictionary = train_generator.class_indices\n",
        "    for key, value in class_dictionary.items():\n",
        "        if value == idx:\n",
        "             return key\n",
        "\n",
        "def dif(test_labels, idx, train_generator):\n",
        "    class_dictionary = train_generator.class_indices\n",
        "    test = ''\n",
        "    id = ''\n",
        "    for key, value in class_dictionary.items():\n",
        "        if value == test_labels:\n",
        "            test = key\n",
        "        if value == idx:\n",
        "            id = key\n",
        "    return test, id\n",
        "\n",
        "\n",
        "#Code by Hitesh Kumar https://www.kaggle.com/hitzz97/emotion-detection\n",
        "\n",
        "fig = plt.figure(figsize=((20, 30)))\n",
        "\n",
        "# k = 0\n",
        "for j in range(len(idx)):\n",
        "    ax = plt.subplot(7, 5, j+1)\n",
        "    px = test_images[j]/255\n",
        "#     k += 1\n",
        "    ax.imshow(px)\n",
        "    ax.set_xticks([])\n",
        "    ax.set_yticks([])\n",
        "\n",
        "#     print(idx[j])\n",
        "#     print(test_labels[j])\n",
        "    if test_labels[j] == idx[j]:\n",
        "#     if  class_dictionary[test_labels[j]] == class_dictionary[idx[j]]:\n",
        "        for axis in ['top','bottom','left','right']:\n",
        "            ax.spines[axis].set_linewidth(15)\n",
        "            ax.spines[axis].set_color('green')\n",
        "        ax.set_title(\n",
        "                    compare(idx[j], train_generator),\n",
        "                    color='green',\n",
        "                    fontsize=40\n",
        "                     )\n",
        "\n",
        "    else:\n",
        "        for axis in ['top','bottom','left','right']:\n",
        "            ax.spines[axis].set_linewidth(15)\n",
        "            ax.spines[axis].set_color('red')\n",
        "        ax.set_title(\n",
        "                    'Pred:'+dif(test_labels[j], idx[j], train_generator)[1]+\" | Act:\"+ dif(test_labels[j], idx[j], train_generator)[0],\n",
        "                    color='red',\n",
        "                    fontsize=40\n",
        "                    )\n",
        "    plt.tight_layout()"
      ],
      "metadata": {
        "execution": {
          "iopub.status.busy": "2023-05-08T09:30:26.332194Z",
          "iopub.execute_input": "2023-05-08T09:30:26.33279Z",
          "iopub.status.idle": "2023-05-08T09:30:37.10688Z",
          "shell.execute_reply.started": "2023-05-08T09:30:26.332752Z",
          "shell.execute_reply": "2023-05-08T09:30:37.104996Z"
        },
        "trusted": true,
        "id": "7EWBoLOX4vk0"
      },
      "execution_count": null,
      "outputs": []
    },
    {
      "cell_type": "markdown",
      "source": [
        "<div style = \"color: Black;\n",
        "              display: fill;\n",
        "              border-radius: 7px;\n",
        "              \">\n",
        "    <blockquote id = \"prediction-on-shuffled-test-images\"\n",
        "        style = \"padding: 18px;\n",
        "                 color: #f8e7b5;\n",
        "                 font-size: 25px;\n",
        "                 font-family: Cambria;\n",
        "                 font-weight: bold;\">References\n",
        "    <ul style =\"font-family: Cambria;\n",
        "                 color: #256d7c;\n",
        "                 font-size: 15px;\n",
        "                 font-family: Cambria;\n",
        "                 font-weight: regular;\">\n",
        "        <li><a href=\"https://www.kaggle.com/charlesanjah/optimizing-facial-emotion-detection-efficientnet/edit\">Optimising Facial Emotion Detection EfficientNet</a></li>\n",
        "        <li><a href=\"https://www.kaggle.com/code/gpiosenka/callback-to-continue-or-halt-training-f1-90\">Callback to continue or halt training</a></li>\n",
        "        <li><a href=\"https://www.kaggle.com/code/charlesanjah/mobilenet-based-emotion-recognition/edit\">Markdown Graphics</a></li>\n",
        "    </ul>\n",
        "   </blockquote>\n",
        "\n",
        " </div>"
      ],
      "metadata": {
        "id": "HNMtKDQw4vk0"
      }
    }
  ]
}